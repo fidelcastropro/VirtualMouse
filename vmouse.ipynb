{
 "cells": [
  {
   "cell_type": "code",
   "execution_count": 22,
   "metadata": {},
   "outputs": [],
   "source": [
    "import cv2 as cv\n",
    "import numpy as np\n",
    "import mediapipe as mp\n",
    "from math import hypot\n",
    "import pyautogui\n",
    "from pynput.mouse import Button, Controller\n",
    "mouse = Controller()\n",
    "\n",
    "screenWidth,screenHeight = pyautogui.size()"
   ]
  },
  {
   "cell_type": "code",
   "execution_count": 23,
   "metadata": {},
   "outputs": [],
   "source": [
    "def calculate_Angle(fingerPoints):\n",
    "    if len(fingerPoints) == 3:\n",
    "        a = fingerPoints[0]\n",
    "        b = fingerPoints[1]\n",
    "        c = fingerPoints[2]\n",
    "\n",
    "        radians = np.arctan2(c[1] - b[1],c[0] - b[0]) - np.arctan2(a[1] - b[1],a[0] - b[0])\n",
    "        angle = np.abs(np.degrees(radians))\n",
    "\n",
    "        return angle\n",
    "    return"
   ]
  },
  {
   "cell_type": "code",
   "execution_count": 24,
   "metadata": {},
   "outputs": [],
   "source": [
    "def moveMouse(allLandmarks):\n",
    "    index_Finger_Tip = allLandmarks[8]\n",
    "\n",
    "    x = index_Finger_Tip[0] * screenWidth * 1.5\n",
    "    y = index_Finger_Tip[1] * screenHeight * 1.5\n",
    "\n",
    "    pyautogui.moveTo(x,y)"
   ]
  },
  {
   "cell_type": "code",
   "execution_count": 25,
   "metadata": {},
   "outputs": [],
   "source": [
    "def calculate_Distance(landmark_list):\n",
    "    if len(landmark_list) < 2:\n",
    "        return\n",
    "    (x1,y1) = (landmark_list[0][0] * screenWidth , landmark_list[0][1] * screenHeight)\n",
    "    (x2,y2) = (landmark_list[1][0] * screenWidth , landmark_list[1][1] * screenHeight)\n",
    "\n",
    "    return hypot((x2-x1),(y2-y1))"
   ]
  },
  {
   "cell_type": "code",
   "execution_count": 26,
   "metadata": {},
   "outputs": [],
   "source": [
    "def detectGesture(allLandmarks,frame):\n",
    "    if len(allLandmarks) >= 21:\n",
    "        stage = 'Up'\n",
    "        distPoints = [allLandmarks[4],allLandmarks[5]]\n",
    "        indexFingerPoints = [allLandmarks[5],allLandmarks[6],allLandmarks[8]]\n",
    "        middleFingerPoints = [allLandmarks[9],allLandmarks[10],allLandmarks[12]]\n",
    "        if calculate_Distance(distPoints) < 50 and calculate_Angle(indexFingerPoints) > 90 and calculate_Angle(middleFingerPoints) > 90:\n",
    "            cv.putText(frame,\"Mouse movement\",(10,10),cv.FONT_HERSHEY_COMPLEX,1.5,(0,255,0),2)\n",
    "            moveMouse(allLandmarks)\n",
    "        elif calculate_Distance(distPoints) > 50 and calculate_Angle(indexFingerPoints) < 70 and calculate_Angle(middleFingerPoints) > 90:\n",
    "            mouse.press(Button.left)\n",
    "            mouse.release(Button.left)\n",
    "            cv.putText(frame,\"Left Click\",(10,10),cv.FONT_HERSHEY_COMPLEX,1.5,(0,255,0),2)\n",
    "        elif calculate_Distance(distPoints) > 50 and calculate_Angle(indexFingerPoints) > 90 and calculate_Angle(middleFingerPoints) < 70:\n",
    "            mouse.press(Button.right)\n",
    "            mouse.release(Button.right)\n",
    "            cv.putText(frame,\"Right Click\",(10,10),cv.FONT_HERSHEY_COMPLEX,1.5,(0,255,0),2)\n",
    "        elif calculate_Distance(distPoints) > 50 and calculate_Angle(indexFingerPoints) < 70 and calculate_Angle(middleFingerPoints) < 70:\n",
    "            mouse.press(Button.left)\n",
    "            mouse.release(Button.left)\n",
    "            mouse.press(Button.left)\n",
    "            mouse.release(Button.left)\n",
    "            cv.putText(frame,\"Double Click\",(10,10),cv.FONT_HERSHEY_COMPLEX,1.5,(0,255,0),2)"
   ]
  },
  {
   "cell_type": "code",
   "execution_count": 27,
   "metadata": {},
   "outputs": [],
   "source": [
    "mpHands = mp.solutions.hands\n",
    "hands = mpHands.Hands(\n",
    "    model_complexity = 1,\n",
    "    min_detection_confidence = 0.7,\n",
    "    min_tracking_confidence = 0.7,\n",
    "    max_num_hands = 1,\n",
    "    static_image_mode = False)\n",
    "draw = mp.solutions.drawing_utils"
   ]
  },
  {
   "cell_type": "code",
   "execution_count": 28,
   "metadata": {},
   "outputs": [
    {
     "ename": "KeyboardInterrupt",
     "evalue": "",
     "output_type": "error",
     "traceback": [
      "\u001b[1;31m---------------------------------------------------------------------------\u001b[0m",
      "\u001b[1;31mKeyboardInterrupt\u001b[0m                         Traceback (most recent call last)",
      "Cell \u001b[1;32mIn[28], line 32\u001b[0m\n\u001b[0;32m     29\u001b[0m         cv\u001b[38;5;241m.\u001b[39mdestroyAllWindows()\n\u001b[0;32m     31\u001b[0m \u001b[38;5;28;01mif\u001b[39;00m \u001b[38;5;18m__name__\u001b[39m \u001b[38;5;241m==\u001b[39m \u001b[38;5;124m'\u001b[39m\u001b[38;5;124m__main__\u001b[39m\u001b[38;5;124m'\u001b[39m:\n\u001b[1;32m---> 32\u001b[0m     \u001b[43mmain\u001b[49m\u001b[43m(\u001b[49m\u001b[43m)\u001b[49m\n",
      "Cell \u001b[1;32mIn[28], line 11\u001b[0m, in \u001b[0;36mmain\u001b[1;34m()\u001b[0m\n\u001b[0;32m      9\u001b[0m frame \u001b[38;5;241m=\u001b[39m cv\u001b[38;5;241m.\u001b[39mflip(frame,\u001b[38;5;241m1\u001b[39m)\n\u001b[0;32m     10\u001b[0m frameRGB \u001b[38;5;241m=\u001b[39m cv\u001b[38;5;241m.\u001b[39mcvtColor(frame,cv\u001b[38;5;241m.\u001b[39mCOLOR_BGR2RGB)\n\u001b[1;32m---> 11\u001b[0m processed \u001b[38;5;241m=\u001b[39m \u001b[43mhands\u001b[49m\u001b[38;5;241;43m.\u001b[39;49m\u001b[43mprocess\u001b[49m\u001b[43m(\u001b[49m\u001b[43mframeRGB\u001b[49m\u001b[43m)\u001b[49m\n\u001b[0;32m     13\u001b[0m \u001b[38;5;28;01mif\u001b[39;00m processed\u001b[38;5;241m.\u001b[39mmulti_hand_landmarks:\n\u001b[0;32m     14\u001b[0m     oneHandLandmarks \u001b[38;5;241m=\u001b[39m processed\u001b[38;5;241m.\u001b[39mmulti_hand_landmarks[\u001b[38;5;241m0\u001b[39m]\n",
      "File \u001b[1;32mc:\\Users\\FIDEL CASTRO\\AppData\\Local\\Programs\\Python\\Python38\\lib\\site-packages\\mediapipe\\python\\solutions\\hands.py:153\u001b[0m, in \u001b[0;36mHands.process\u001b[1;34m(self, image)\u001b[0m\n\u001b[0;32m    132\u001b[0m \u001b[38;5;28;01mdef\u001b[39;00m\u001b[38;5;250m \u001b[39m\u001b[38;5;21mprocess\u001b[39m(\u001b[38;5;28mself\u001b[39m, image: np\u001b[38;5;241m.\u001b[39mndarray) \u001b[38;5;241m-\u001b[39m\u001b[38;5;241m>\u001b[39m NamedTuple:\n\u001b[0;32m    133\u001b[0m \u001b[38;5;250m  \u001b[39m\u001b[38;5;124;03m\"\"\"Processes an RGB image and returns the hand landmarks and handedness of each detected hand.\u001b[39;00m\n\u001b[0;32m    134\u001b[0m \n\u001b[0;32m    135\u001b[0m \u001b[38;5;124;03m  Args:\u001b[39;00m\n\u001b[1;32m   (...)\u001b[0m\n\u001b[0;32m    150\u001b[0m \u001b[38;5;124;03m         right hand) of the detected hand.\u001b[39;00m\n\u001b[0;32m    151\u001b[0m \u001b[38;5;124;03m  \"\"\"\u001b[39;00m\n\u001b[1;32m--> 153\u001b[0m   \u001b[38;5;28;01mreturn\u001b[39;00m \u001b[38;5;28;43msuper\u001b[39;49m\u001b[43m(\u001b[49m\u001b[43m)\u001b[49m\u001b[38;5;241;43m.\u001b[39;49m\u001b[43mprocess\u001b[49m\u001b[43m(\u001b[49m\u001b[43minput_data\u001b[49m\u001b[38;5;241;43m=\u001b[39;49m\u001b[43m{\u001b[49m\u001b[38;5;124;43m'\u001b[39;49m\u001b[38;5;124;43mimage\u001b[39;49m\u001b[38;5;124;43m'\u001b[39;49m\u001b[43m:\u001b[49m\u001b[43m \u001b[49m\u001b[43mimage\u001b[49m\u001b[43m}\u001b[49m\u001b[43m)\u001b[49m\n",
      "File \u001b[1;32mc:\\Users\\FIDEL CASTRO\\AppData\\Local\\Programs\\Python\\Python38\\lib\\site-packages\\mediapipe\\python\\solution_base.py:335\u001b[0m, in \u001b[0;36mSolutionBase.process\u001b[1;34m(self, input_data)\u001b[0m\n\u001b[0;32m    329\u001b[0m   \u001b[38;5;28;01melse\u001b[39;00m:\n\u001b[0;32m    330\u001b[0m     \u001b[38;5;28mself\u001b[39m\u001b[38;5;241m.\u001b[39m_graph\u001b[38;5;241m.\u001b[39madd_packet_to_input_stream(\n\u001b[0;32m    331\u001b[0m         stream\u001b[38;5;241m=\u001b[39mstream_name,\n\u001b[0;32m    332\u001b[0m         packet\u001b[38;5;241m=\u001b[39m\u001b[38;5;28mself\u001b[39m\u001b[38;5;241m.\u001b[39m_make_packet(input_stream_type,\n\u001b[0;32m    333\u001b[0m                                  data)\u001b[38;5;241m.\u001b[39mat(\u001b[38;5;28mself\u001b[39m\u001b[38;5;241m.\u001b[39m_simulated_timestamp))\n\u001b[1;32m--> 335\u001b[0m \u001b[38;5;28;43mself\u001b[39;49m\u001b[38;5;241;43m.\u001b[39;49m\u001b[43m_graph\u001b[49m\u001b[38;5;241;43m.\u001b[39;49m\u001b[43mwait_until_idle\u001b[49m\u001b[43m(\u001b[49m\u001b[43m)\u001b[49m\n\u001b[0;32m    336\u001b[0m \u001b[38;5;66;03m# Create a NamedTuple object where the field names are mapping to the graph\u001b[39;00m\n\u001b[0;32m    337\u001b[0m \u001b[38;5;66;03m# output stream names.\u001b[39;00m\n\u001b[0;32m    338\u001b[0m solution_outputs \u001b[38;5;241m=\u001b[39m collections\u001b[38;5;241m.\u001b[39mnamedtuple(\n\u001b[0;32m    339\u001b[0m     \u001b[38;5;124m'\u001b[39m\u001b[38;5;124mSolutionOutputs\u001b[39m\u001b[38;5;124m'\u001b[39m, \u001b[38;5;28mself\u001b[39m\u001b[38;5;241m.\u001b[39m_output_stream_type_info\u001b[38;5;241m.\u001b[39mkeys())\n",
      "\u001b[1;31mKeyboardInterrupt\u001b[0m: "
     ]
    }
   ],
   "source": [
    "def main():\n",
    "    cam = cv.VideoCapture(0)\n",
    "    stage = 'up'\n",
    "    try :\n",
    "        while cam.isOpened():\n",
    "            returnVal,frame = cam.read()\n",
    "            if not returnVal:\n",
    "                break\n",
    "            frame = cv.flip(frame,1)\n",
    "            frameRGB = cv.cvtColor(frame,cv.COLOR_BGR2RGB)\n",
    "            processed = hands.process(frameRGB)\n",
    "\n",
    "            if processed.multi_hand_landmarks:\n",
    "                oneHandLandmarks = processed.multi_hand_landmarks[0]\n",
    "                draw.draw_landmarks(frame,oneHandLandmarks,mpHands.HAND_CONNECTIONS)\n",
    "                allLandmarks = []\n",
    "    \n",
    "                for onein21 in oneHandLandmarks.landmark:\n",
    "                    allLandmarks.append((onein21.x,onein21.y))\n",
    "\n",
    "                detectGesture(allLandmarks,frame)\n",
    "\n",
    "            cv.imshow('WebCam',frame)\n",
    "\n",
    "            if cv.waitKey(1) & 0xFF == ord('q'):\n",
    "                break\n",
    "    finally:\n",
    "        cam.release()\n",
    "        cv.destroyAllWindows()\n",
    "\n",
    "if __name__ == '__main__':\n",
    "    main()\n"
   ]
  }
 ],
 "metadata": {
  "kernelspec": {
   "display_name": "Python 3",
   "language": "python",
   "name": "python3"
  },
  "language_info": {
   "codemirror_mode": {
    "name": "ipython",
    "version": 3
   },
   "file_extension": ".py",
   "mimetype": "text/x-python",
   "name": "python",
   "nbconvert_exporter": "python",
   "pygments_lexer": "ipython3",
   "version": "3.8.10"
  }
 },
 "nbformat": 4,
 "nbformat_minor": 2
}
